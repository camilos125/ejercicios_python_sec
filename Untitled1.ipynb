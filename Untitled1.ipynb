{
  "nbformat": 4,
  "nbformat_minor": 0,
  "metadata": {
    "colab": {
      "provenance": [],
      "authorship_tag": "ABX9TyNx89RFtBpA7JQto5eHhOxS",
      "include_colab_link": true
    },
    "kernelspec": {
      "name": "python3",
      "display_name": "Python 3"
    },
    "language_info": {
      "name": "python"
    }
  },
  "cells": [
    {
      "cell_type": "markdown",
      "metadata": {
        "id": "view-in-github",
        "colab_type": "text"
      },
      "source": [
        "<a href=\"https://colab.research.google.com/github/camilos125/ejercicios_python_sec/blob/main/Untitled1.ipynb\" target=\"_parent\"><img src=\"https://colab.research.google.com/assets/colab-badge.svg\" alt=\"Open In Colab\"/></a>"
      ]
    },
    {
      "cell_type": "code",
      "execution_count": 2,
      "metadata": {
        "id": "PCo4WEsWbUG-",
        "outputId": "14c00b0c-b1c2-4ffd-dfab-9a14515dceeb",
        "colab": {
          "base_uri": "https://localhost:8080/"
        }
      },
      "outputs": [
        {
          "output_type": "stream",
          "name": "stdout",
          "text": [
            "Escriba su nombreCamilo \n",
            "cual es tu edad?17\n",
            "Hola, Camilo \n",
            "Tienes 17 años\n"
          ]
        }
      ],
      "source": [
        "name = input (\"Escriba su nombre\")\n",
        "age = int (input(\"cual es tu edad?\"))\n",
        "print (\"Hola,\", name)\n",
        "print (\"Tienes\", str(age), \"años\")\n"
      ]
    },
    {
      "cell_type": "markdown",
      "source": [
        "## Ejercicio 1: area de un rectangulo\n",
        "calcular el area de un rectangulo a partir de su base y su altura:\n",
        "A= B * h\n"
      ],
      "metadata": {
        "id": "fzZKXLBjd02y"
      }
    },
    {
      "cell_type": "code",
      "source": [
        "import math\n",
        "radio = float(input(\"Ingresa el radio del circulo: \"))\n",
        "area = math.pi * (radio ** 2)\n",
        "print (\"El area del circulo es:\", area)"
      ],
      "metadata": {
        "id": "gBPFu-vRcU9k",
        "outputId": "3507f2f0-c87f-4988-b538-b3b89d6f64a1",
        "colab": {
          "base_uri": "https://localhost:8080/"
        }
      },
      "execution_count": 13,
      "outputs": [
        {
          "output_type": "stream",
          "name": "stdout",
          "text": [
            "Ingresa el radio del circulo: 12.5\n",
            "El area del circulo es: 490.8738521234052\n"
          ]
        }
      ]
    },
    {
      "cell_type": "code",
      "source": [
        "import math\n",
        "print (\"programa para calcular el voltaje instantaneo.\")\n",
        "v = float (imput(\"ingrese la amplitud (v):\"))\n",
        "f = float (imput(\"ingrese la frecuencia (f):\"))\n",
        "ang = float (imput(\"ingrese el angulo de fase (°):\"))\n",
        "\n",
        "t = float (input)"
      ],
      "metadata": {
        "id": "1JTj9UuxmQPN"
      },
      "execution_count": null,
      "outputs": []
    },
    {
      "cell_type": "code",
      "source": [],
      "metadata": {
        "id": "vLRhjZsInWJD"
      },
      "execution_count": null,
      "outputs": []
    }
  ]
}